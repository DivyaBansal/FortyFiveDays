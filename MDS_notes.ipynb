{
 "cells": [
  {
   "cell_type": "markdown",
   "metadata": {},
   "source": [
    "# Modern Data Stack "
   ]
  },
  {
   "cell_type": "code",
   "execution_count": null,
   "metadata": {},
   "outputs": [],
   "source": [
    "# dbt + Python\n",
    "\n",
    "def model(dbt, session):\n",
    "    my_sql_model_df = dbt.ref(\"my_sql_model\")\n",
    "    final_df = ... # stuff that can't be written in SQL e.g. ML\n",
    "    return final_df\n",
    "\n",
    "'''\n",
    "This will be run over:\n",
    " - PySpark -> if on GCP, Databricks\n",
    " - Snowpark -> if on Snowflake\n",
    "'''"
   ]
  }
 ],
 "metadata": {
  "language_info": {
   "name": "python"
  },
  "orig_nbformat": 4
 },
 "nbformat": 4,
 "nbformat_minor": 2
}
