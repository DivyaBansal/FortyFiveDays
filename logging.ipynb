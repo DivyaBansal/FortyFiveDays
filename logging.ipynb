{
 "cells": [
  {
   "cell_type": "code",
   "execution_count": null,
   "metadata": {},
   "outputs": [],
   "source": [
    "import logging\n",
    "\n",
    "logging.basicConfig(level=logging.INFO)\n",
    "logger = logging.getLogger(__name__)\n",
    "RANDOM_STATE = 42"
   ]
  },
  {
   "cell_type": "code",
   "execution_count": null,
   "metadata": {},
   "outputs": [],
   "source": [
    "from datetime import datetime\n",
    "\n",
    "# date to desired format\n",
    "date = datetime.today().strftime('%d-%m-%Y')\n",
    "date= datetime.strptime(date,'%Y%m%d').strftime('%Y-%m-%d')\n",
    "\n",
    "# Calender week to date\n",
    "week= int(date.replace(\"CW\",\"\"))\n",
    "year = 2021\n",
    "date = datetime.date(year,1,1)+relativedelta(weeks=+week)  "
   ]
  },
  {
   "cell_type": "code",
   "execution_count": null,
   "metadata": {},
   "outputs": [],
   "source": [
    "import pandas as pd\n",
    "import smtplib, ssl\n",
    "from email.mime.multipart import MIMEMultipart\n",
    "from email.mime.text import MIMEText\n",
    "from email.mime.application import MIMEApplication\n",
    "\n",
    "# Set up the email addresses and password. Please replace below with your email address and password\n",
    "email_from = 'bwencs@gmail.com'\n",
    "password = 'dcefcerf'\n",
    "email_to = ['xyz@yahoo.com', 'abc@gmail.com']\n",
    "\n",
    "# Generate today's date to be included in the email Subject\n",
    "date_str = pd.Timestamp.today().strftime('%Y-%m-%d')\n",
    "\n",
    "# Define the HTML document\n",
    "html = '''\n",
    "    <html>\n",
    "        <body>\n",
    "            <h1>Daily BSE Bulk Deals report</h1>\n",
    "        </body>\n",
    "    </html>\n",
    "    '''\n",
    "# Create a MIMEMultipart class, and set up the From, To, Subject fields\n",
    "email_message = MIMEMultipart()\n",
    "# email_message['From'] = email_from\n",
    "# email_message['To'] = email_to\n",
    "email_message['Subject'] = f'Report email - {date_str}'\n",
    "email_message.attach(MIMEText(html, \"html\"))\n",
    "\n",
    "# Open the attachment file for reading in binary mode, and make it a MIMEApplication class\n",
    "with open(filename, \"rb\") as f:\n",
    "    file_attachment = MIMEApplication(f.read())\n",
    "# Add header/name to the attachments    \n",
    "file_attachment.add_header(\n",
    "    \"Content-Disposition\",\n",
    "    f\"attachment; filename= {filename}\",\n",
    ")\n",
    "# Attach the file to the message\n",
    "email_message.attach(file_attachment)\n",
    "\n",
    "email_string = email_message.as_string()\n",
    "context = ssl.create_default_context()\n",
    "with smtplib.SMTP_SSL(\"smtp.gmail.com\", 465, context=context) as server:\n",
    "    server.ehlo()\n",
    "    # server.starttls()\n",
    "    server.login(email_from, password)\n",
    "    server.sendmail(email_from, email_to, email_string)"
   ]
  }
 ],
 "metadata": {
  "language_info": {
   "name": "python"
  },
  "orig_nbformat": 4
 },
 "nbformat": 4,
 "nbformat_minor": 2
}
