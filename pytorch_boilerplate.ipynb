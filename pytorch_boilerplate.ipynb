{
 "cells": [
  {
   "cell_type": "code",
   "execution_count": null,
   "metadata": {},
   "outputs": [],
   "source": [
    "import torch\n",
    "import torch.nn as nn\n",
    "import torch.nn.functional as F\n",
    "import torchvision\n",
    "import torchvision.transforms as transforms\n",
    "\n",
    "\n",
    "a = np.ones((2,2))\n",
    "ta = torch.tensor(a).cuda()\n",
    "b = np.array([[1,2],[3,4]])\n",
    "tb = torch.tensor(b).cuda()\n",
    "\n",
    "class MyModel(nn.Module):\n",
    "\tdef __init__(self):\n",
    "\t\tsuper(MyModel, self).__init__()\n",
    "\t\tself.conv1 = nn.Conv2d(inchannels, outchannels, kernelsize)\n",
    "\t\tself.d1 = nn.Linear(x,y)\n",
    "\tdef forward(self, x):\n",
    "\t\tx = self.conv1(x)\n",
    "\t\tx = F.relu(x)\n",
    "\t\tx  = self.d1(x)\n",
    "        ...\n"
   ]
  }
 ],
 "metadata": {
  "language_info": {
   "name": "python"
  },
  "orig_nbformat": 4
 },
 "nbformat": 4,
 "nbformat_minor": 2
}
