{
 "cells": [
  {
   "cell_type": "markdown",
   "metadata": {},
   "source": [
    "# Data Transformations"
   ]
  },
  {
   "cell_type": "markdown",
   "metadata": {},
   "source": [
    "## Categorical Encoding"
   ]
  },
  {
   "cell_type": "code",
   "execution_count": null,
   "metadata": {},
   "outputs": [],
   "source": [
    "ohe = OneHotEncoder()\n",
    "ohe.fit(df)\n",
    "X_test = ohe.transform(df_test)"
   ]
  },
  {
   "cell_type": "markdown",
   "metadata": {},
   "source": [
    "## Date Transformations"
   ]
  },
  {
   "cell_type": "code",
   "execution_count": null,
   "metadata": {},
   "outputs": [],
   "source": [
    "dte = "
   ]
  },
  {
   "cell_type": "markdown",
   "metadata": {},
   "source": [
    "## String columns"
   ]
  },
  {
   "cell_type": "code",
   "execution_count": null,
   "metadata": {},
   "outputs": [],
   "source": [
    "# get latent categories from strings\n",
    "\n",
    "GapEncoder\n",
    "\n",
    "MinHashEncoder -> fast, stateless (for distributed computing), not interpretable)"
   ]
  },
  {
   "cell_type": "code",
   "execution_count": null,
   "metadata": {},
   "outputs": [],
   "source": [
    "# Drop duplicates\n",
    "df = df.drop_duplicates()\n",
    "\n",
    "# Drop column\n",
    "df = df.drop(columns=\"column_name\")\n",
    "\n",
    "# Remove non-alphabetic text from column\n",
    "df['text_col'] = df['text_col'].str.replace('[^a-zA-Z]','')\n",
    "\n",
    "#  Replace nulls\n",
    "df = df.fillna('')\n",
    "\n",
    "df = df.dropna(subset=\"name\")\n",
    "\n",
    "df = df.reset_index(drop=True)"
   ]
  }
 ],
 "metadata": {
  "language_info": {
   "name": "python"
  },
  "orig_nbformat": 4
 },
 "nbformat": 4,
 "nbformat_minor": 2
}
