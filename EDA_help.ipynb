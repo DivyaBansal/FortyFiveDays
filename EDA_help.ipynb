{
 "cells": [
  {
   "attachments": {},
   "cell_type": "markdown",
   "metadata": {},
   "source": [
    "# A file for useful functions"
   ]
  },
  {
   "cell_type": "code",
   "execution_count": null,
   "metadata": {},
   "outputs": [],
   "source": [
    "# Live-reload of imported modules\n",
    "%load_ext autoreload\n",
    "%autoreload 2\n",
    "\n",
    "import pandas as pd \n",
    "import numpy as np\n",
    "import matplotlib\n",
    "import matplotlib.pyplot as plt\n",
    "import seaborn as sns\n",
    "from math import pi\n",
    "from tqdm.notebook import tqdm\n",
    "\n",
    "import warnings\n",
    "warnings.filterwarnings(\"ignore\")\n",
    "\n",
    "%matplotlib inline \n",
    "\n",
    "# Print all rows and columns\n",
    "pd.set_option('display.max_columns', None)\n",
    "pd.set_option('display.max_rows', None)"
   ]
  },
  {
   "cell_type": "code",
   "execution_count": null,
   "metadata": {},
   "outputs": [],
   "source": [
    "import os\n",
    "\n",
    "IS_LOCAL = True\n",
    "if(IS_LOCAL):\n",
    "    PATH=\"../input/folder\"\n",
    "else:\n",
    "    PATH=\"../input\"\n",
    "print(os.listdir(PATH))\n",
    "\n",
    "# Eg read data\n",
    "train_df = pd.read_csv(PATH+\"/train.csv\")"
   ]
  },
  {
   "attachments": {},
   "cell_type": "markdown",
   "metadata": {},
   "source": [
    "Source: https://github.com/gabrielpreda/Kaggle/blob/master/HelpNavigateRobots/robots-need-help.ipynb"
   ]
  },
  {
   "attachments": {},
   "cell_type": "markdown",
   "metadata": {},
   "source": [
    "## Check missing data in columns"
   ]
  },
  {
   "cell_type": "code",
   "execution_count": null,
   "metadata": {},
   "outputs": [],
   "source": [
    "def missing_data(data):\n",
    "    total = data.isnull().sum()\n",
    "    percent = (data.isnull().sum()/data.isnull().count()*100)\n",
    "    tt = pd.concat([total, percent], axis=1, keys=['Total', 'Percent'])\n",
    "    types = []\n",
    "    for col in data.columns:\n",
    "        dtype = str(data[col].dtype)\n",
    "        types.append(dtype)\n",
    "    tt['Types'] = types\n",
    "    return(np.transpose(tt))\n",
    "\n",
    "def check_sparsity(df):\n",
    "    non_zeros = (df.ne(0).sum(axis=1)).sum()\n",
    "    total = df.shape[1]*df.shape[0]\n",
    "    zeros = total - non_zeros\n",
    "    sparsity = round(zeros / total * 100,2)\n",
    "    density = round(non_zeros / total * 100,2)\n",
    "\n",
    "    print(\" Total:\",total,\"\\n Zeros:\", zeros, \"\\n Sparsity [%]: \", sparsity, \"\\n Density [%]: \", density)\n",
    "    return density"
   ]
  },
  {
   "attachments": {},
   "cell_type": "markdown",
   "metadata": {},
   "source": [
    "## Filling missing data"
   ]
  },
  {
   "cell_type": "code",
   "execution_count": null,
   "metadata": {},
   "outputs": [],
   "source": [
    "X_train.fillna(0, inplace = True)\n",
    "X_train.replace(-np.inf, 0, inplace = True)\n",
    "X_train.replace(np.inf, 0, inplace = True)\n",
    "X_test.fillna(0, inplace = True)\n",
    "X_test.replace(-np.inf, 0, inplace = True)\n",
    "X_test.replace(np.inf, 0, inplace = True)"
   ]
  },
  {
   "attachments": {},
   "cell_type": "markdown",
   "metadata": {},
   "source": [
    "## Checking distribution of labels of each class for classification problems"
   ]
  },
  {
   "cell_type": "code",
   "execution_count": null,
   "metadata": {},
   "outputs": [],
   "source": [
    "f, ax = plt.subplots(1,1, figsize=(16,4))\n",
    "g = sns.countplot(train['<y_column>'])\n",
    "g.set_title(\"Number of labels for each class\")\n",
    "plt.show()   \n",
    "\n",
    "# Checking percent of \"1\" labelled data points:\n",
    "# print(\"There are {}% target values with 1\".format(100 * train[\"target\"].value_counts()[1]/train.shape[0]))"
   ]
  },
  {
   "attachments": {},
   "cell_type": "markdown",
   "metadata": {},
   "source": [
    "## Check variation in feature ditribution of train and test data (Continuous features)"
   ]
  },
  {
   "cell_type": "code",
   "execution_count": null,
   "metadata": {},
   "outputs": [],
   "source": [
    "def plot_feature_distribution(df1, df2, label1, label2, features):\n",
    "    i = 0\n",
    "    sns.set_style('whitegrid')\n",
    "    plt.figure()\n",
    "    fig, ax = plt.subplots(2,5,figsize=(16,8))\n",
    "\n",
    "    for feature in features:\n",
    "        i += 1\n",
    "        plt.subplot(2,5,i)\n",
    "        sns.kdeplot(df1[feature], bw=0.5,label=label1)\n",
    "        sns.kdeplot(df2[feature], bw=0.5,label=label2)\n",
    "        plt.xlabel(feature, fontsize=9)\n",
    "        locs, labels = plt.xticks()\n",
    "        plt.tick_params(axis='x', which='major', labelsize=8)\n",
    "        plt.tick_params(axis='y', which='major', labelsize=8)\n",
    "    plt.show();"
   ]
  },
  {
   "cell_type": "code",
   "execution_count": null,
   "metadata": {},
   "outputs": [],
   "source": [
    "# Check distribution of mean values, could also change to min, max, std etc.\n",
    "\n",
    "plt.figure(figsize=(16,6))\n",
    "features = train_df.columns.values[2:302]\n",
    "plt.title(\"Distribution of mean values per row in the train and test set\")\n",
    "sns.distplot(train_df[features].mean(axis=1),color=\"green\", kde=True,bins=120, label='train') # or axis=0 for per column distribution\n",
    "sns.distplot(test_df[features].mean(axis=1),color=\"blue\", kde=True,bins=120, label='test')\n",
    "plt.legend()\n",
    "plt.show()"
   ]
  },
  {
   "cell_type": "code",
   "execution_count": null,
   "metadata": {},
   "outputs": [],
   "source": [
    "# Check ditbn of skewness/kurtosis\n",
    "\n",
    "t0 = train_df.loc[train_df['target'] == 0]\n",
    "t1 = train_df.loc[train_df['target'] == 1]\n",
    "plt.figure(figsize=(16,6))\n",
    "plt.title(\"Distribution of skew values per row in the train set\")\n",
    "sns.distplot(t0[features].skew(axis=1),color=\"red\", kde=True,bins=120, label='target = 0') # or axis=0 for per column distribution\n",
    "sns.distplot(t1[features].skew(axis=1),color=\"blue\", kde=True,bins=120, label='target = 1')\n",
    "plt.legend(); plt.show()"
   ]
  },
  {
   "attachments": {},
   "cell_type": "markdown",
   "metadata": {},
   "source": [
    "## Plot feature-wise class distribution"
   ]
  },
  {
   "cell_type": "code",
   "execution_count": null,
   "metadata": {},
   "outputs": [],
   "source": [
    "def plot_feature_class_distribution(classes,tt, features):\n",
    "    i = 0\n",
    "    sns.set_style('whitegrid')\n",
    "    plt.figure()\n",
    "    fig, ax = plt.subplots(5,2,figsize=(16,24))\n",
    "\n",
    "    for feature in features:\n",
    "        i += 1\n",
    "        plt.subplot(5,2,i)\n",
    "        for clas in classes:\n",
    "            ttc = tt[tt['<y_column>']==clas]\n",
    "            sns.kdeplot(ttc[feature], bw=0.5,label=clas)\n",
    "        plt.xlabel(feature, fontsize=9)\n",
    "        locs, labels = plt.xticks()\n",
    "        plt.tick_params(axis='x', which='major', labelsize=8)\n",
    "        plt.tick_params(axis='y', which='major', labelsize=8)\n",
    "    plt.show();\n",
    "\n",
    "classes = (train['<y_column>'].value_counts()).index"
   ]
  },
  {
   "cell_type": "code",
   "execution_count": null,
   "metadata": {},
   "outputs": [],
   "source": [
    "sns.distplot(train['<target_variable>'])"
   ]
  },
  {
   "cell_type": "code",
   "execution_count": null,
   "metadata": {},
   "outputs": [],
   "source": [
    "data.describe(percentiles=[.25, .5, .75, .90, .95, .99])\n",
    "\n",
    "Q1 = data.quantile(0.25)\n",
    "Q3 = data.quantile(0.75)\n",
    "IQR = Q3 - Q1\n",
    "print(IQR)"
   ]
  }
 ],
 "metadata": {
  "language_info": {
   "name": "python"
  },
  "orig_nbformat": 4
 },
 "nbformat": 4,
 "nbformat_minor": 2
}
