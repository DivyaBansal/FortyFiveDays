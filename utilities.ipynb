{
 "cells": [
  {
   "cell_type": "markdown",
   "metadata": {},
   "source": [
    "## Useful imports"
   ]
  },
  {
   "cell_type": "code",
   "execution_count": null,
   "metadata": {},
   "outputs": [],
   "source": [
    "# general imports\n",
    "import os, sys, time, math, re, copy, random, json\n",
    "from Pathlib import Path\n",
    "\n",
    "# Live-reload of imported modules\n",
    "%load_ext autoreload\n",
    "%autoreload 2\n",
    "\n",
    "import pandas as pd \n",
    "import numpy as np\n",
    "\n",
    "#  to supress warnings\n",
    "import warnings\n",
    "warnings.filterwarnings(\"ignore\")\n",
    "\n",
    "# Print all rows and columns\n",
    "pd.set_option('display.max_columns', None)\n",
    "pd.set_option('display.max_rows', None)"
   ]
  },
  {
   "cell_type": "code",
   "execution_count": null,
   "metadata": {},
   "outputs": [],
   "source": [
    "# visualization imports\n",
    "import matplotlib\n",
    "import matplotlib.pyplot as plt\n",
    "import seaborn as sns\n",
    "from tqdm.notebook import tqdm\n",
    "\n",
    "%matplotlib inline "
   ]
  },
  {
   "cell_type": "code",
   "execution_count": null,
   "metadata": {},
   "outputs": [],
   "source": [
    "# ML imports\n",
    "from sklearn.metrics import classification_report"
   ]
  },
  {
   "cell_type": "code",
   "execution_count": null,
   "metadata": {},
   "outputs": [],
   "source": [
    "#  if using colab\n",
    "from google.colab import drive\n",
    "drive.mount('/content/drive')\n",
    "\n",
    "train = pd.read_csv(\"/content/train.csv\")"
   ]
  },
  {
   "cell_type": "markdown",
   "metadata": {},
   "source": [
    "## Logging"
   ]
  },
  {
   "cell_type": "code",
   "execution_count": null,
   "metadata": {},
   "outputs": [],
   "source": [
    "import logging\n",
    "\n",
    "logging.basicConfig(level=logging.INFO)\n",
    "logger = logging.getLogger(__name__)\n",
    "RANDOM_STATE = 42"
   ]
  },
  {
   "cell_type": "code",
   "execution_count": null,
   "metadata": {},
   "outputs": [],
   "source": [
    "formatter = logging.Formatter('%(asctime)s %(levelname)s %(message)s')\n",
    "\n",
    "def setup_logger(name, log_file, level = logging.INFO):\n",
    "    handler = logging.FileHandler(log_file)\n",
    "    handler.setFormatter(formatter)\n",
    "    \n",
    "    logger = logging.getLogger(name)\n",
    "    logger.setLevel(level)\n",
    "    logger.addHandler(handler)\n",
    "    \n",
    "    return logger\n",
    "    \n",
    "# logger for training accuracies\n",
    "train_logger = setup_logger('Training_accuracy', '../log/train_output.log')\n",
    "\n",
    "# logger for evaluation accuracies\n",
    "eval_logger = setup_logger('Evaluation_accuracy', '../log/eval_output.log')    "
   ]
  },
  {
   "cell_type": "code",
   "execution_count": null,
   "metadata": {},
   "outputs": [],
   "source": [
    "def print_and_log(log_file, message):\n",
    "    print(message, flush=True)\n",
    "    log_file.write(message + '\\n')"
   ]
  },
  {
   "cell_type": "markdown",
   "metadata": {},
   "source": [
    "## Seeds"
   ]
  },
  {
   "cell_type": "code",
   "execution_count": null,
   "metadata": {},
   "outputs": [],
   "source": [
    "#############################################\n",
    "#setting up seeds\n",
    "manualSeed = random.randint(1, 10000)\n",
    "print(\"Random Seed: \", manualSeed)\n",
    "np.random.seed(manualSeed)\n",
    "random.seed(manualSeed)\n",
    "torch.manual_seed(manualSeed)\n",
    "torch.cuda.manual_seed(manualSeed)\n",
    "torch.cuda.manual_seed_all(manualSeed)\n",
    "########################################################"
   ]
  },
  {
   "cell_type": "markdown",
   "metadata": {},
   "source": [
    "## Command line parser"
   ]
  },
  {
   "cell_type": "code",
   "execution_count": null,
   "metadata": {},
   "outputs": [],
   "source": [
    "import argparse\n",
    "\n",
    "def parse_command_line(self):\n",
    "    parser = argparse.ArgumentParser()\n",
    "    parser.add_argument(\"--type_choice\", choices=[\"abc\", \"f\", \"g\"], default=\"f\", help=\"Choose <choice>\")\n",
    "    parser.add_argument(\"--learning_rate\", \"-lr\", type=float, default=0.001, help=\"Learning rate\")\n",
    "    parser.add_argument(\"--type_bool\", default=False, action=\"store_true\", help=\"...\")"
   ]
  },
  {
   "cell_type": "markdown",
   "metadata": {},
   "source": [
    "## Date Operations"
   ]
  },
  {
   "cell_type": "code",
   "execution_count": null,
   "metadata": {},
   "outputs": [],
   "source": [
    "from datetime import datetime\n",
    "\n",
    "# date to desired format\n",
    "date = datetime.today().strftime('%d-%m-%Y')\n",
    "date= datetime.strptime(date,'%Y%m%d').strftime('%Y-%m-%d')\n",
    "\n",
    "# Calender week to date\n",
    "week= int(date.replace(\"CW\",\"\"))\n",
    "year = 2021\n",
    "date = datetime.date(year,1,1)+relativedelta(weeks=+week)  "
   ]
  },
  {
   "cell_type": "markdown",
   "metadata": {},
   "source": [
    "## Printing markdown through code"
   ]
  },
  {
   "cell_type": "code",
   "execution_count": null,
   "metadata": {},
   "outputs": [],
   "source": [
    "# This function makes it easier to print rendered markdown through a code cell\n",
    "\n",
    "from IPython.display import Markdown\n",
    "\n",
    "def mprint(text, *args, **kwargs):\n",
    "    if 'end' in kwargs.keys():\n",
    "        text += kwargs['end']\n",
    "\n",
    "    display(Markdown(text))"
   ]
  },
  {
   "cell_type": "code",
   "execution_count": null,
   "metadata": {},
   "outputs": [],
   "source": [
    "#  Example\n",
    "with open(\"data.json\", \"r\", encoding = \"utf-8\") as f:\n",
    "    data_dict = json.loads(f)\n",
    "\n",
    "for k,v in data_dict.items():\n",
    "    mprint(f\"We have **{len(v)}** rows of data in `{k}`.\")"
   ]
  },
  {
   "cell_type": "code",
   "execution_count": 5,
   "metadata": {},
   "outputs": [
    {
     "name": "stdout",
     "output_type": "stream",
     "text": [
      "A              B\n",
      "10            10\n"
     ]
    }
   ],
   "source": [
    "# Printing whitespace and aligning with f string\n",
    "\n",
    "print(f\"{'A':<5} {'B':>10}\")\n",
    "\n",
    "x = y = 10\n",
    "\n",
    "print(f\"{x:<5} {y:>10}\")"
   ]
  },
  {
   "cell_type": "markdown",
   "metadata": {},
   "source": [
    "### Custom context manager"
   ]
  },
  {
   "cell_type": "code",
   "execution_count": 6,
   "metadata": {},
   "outputs": [
    {
     "data": {
      "text/plain": [
       "{1: 'abc', 2: 'xyz'}"
      ]
     },
     "execution_count": 6,
     "metadata": {},
     "output_type": "execute_result"
    }
   ],
   "source": [
    "from contextlib import contextmanager\n",
    "\n",
    "@contextmanager\n",
    "def template():\n",
    "    #  Do everything that will be executed inside the context\n",
    "    yield\n",
    "    # Do everything that will be executed right outside the context"
   ]
  },
  {
   "cell_type": "markdown",
   "metadata": {},
   "source": [
    "## Sending an Email"
   ]
  },
  {
   "cell_type": "code",
   "execution_count": null,
   "metadata": {},
   "outputs": [],
   "source": [
    "import pandas as pd\n",
    "import smtplib, ssl\n",
    "from email.mime.multipart import MIMEMultipart\n",
    "from email.mime.text import MIMEText\n",
    "from email.mime.application import MIMEApplication\n",
    "\n",
    "# Set up the email addresses and password. Please replace below with your email address and password\n",
    "email_from = 'bwencs@gmail.com'\n",
    "password = 'dcefcerf'\n",
    "email_to = ['xyz@yahoo.com', 'abc@gmail.com']\n",
    "\n",
    "# Generate today's date to be included in the email Subject\n",
    "date_str = pd.Timestamp.today().strftime('%Y-%m-%d')\n",
    "\n",
    "# Define the HTML document\n",
    "html = '''\n",
    "    <html>\n",
    "        <body>\n",
    "            <h1>Daily BSE Bulk Deals report</h1>\n",
    "        </body>\n",
    "    </html>\n",
    "    '''\n",
    "# Create a MIMEMultipart class, and set up the From, To, Subject fields\n",
    "email_message = MIMEMultipart()\n",
    "# email_message['From'] = email_from\n",
    "# email_message['To'] = email_to\n",
    "email_message['Subject'] = f'Report email - {date_str}'\n",
    "email_message.attach(MIMEText(html, \"html\"))\n",
    "\n",
    "# Open the attachment file for reading in binary mode, and make it a MIMEApplication class\n",
    "with open(filename, \"rb\") as f:\n",
    "    file_attachment = MIMEApplication(f.read())\n",
    "# Add header/name to the attachments    \n",
    "file_attachment.add_header(\n",
    "    \"Content-Disposition\",\n",
    "    f\"attachment; filename= {filename}\",\n",
    ")\n",
    "# Attach the file to the message\n",
    "email_message.attach(file_attachment)\n",
    "\n",
    "email_string = email_message.as_string()\n",
    "context = ssl.create_default_context()\n",
    "with smtplib.SMTP_SSL(\"smtp.gmail.com\", 465, context=context) as server:\n",
    "    server.ehlo()\n",
    "    # server.starttls()\n",
    "    server.login(email_from, password)\n",
    "    server.sendmail(email_from, email_to, email_string)"
   ]
  },
  {
   "cell_type": "markdown",
   "metadata": {},
   "source": [
    "## Unit Testing"
   ]
  },
  {
   "cell_type": "code",
   "execution_count": null,
   "metadata": {},
   "outputs": [],
   "source": [
    "import os\n",
    "import sys\n",
    "import unittest\n",
    "\n",
    "class Transformer:\n",
    "    pass\n",
    "\n",
    "class TestExtractor(unittest.TestCase):\n",
    "    def test_if_csv_exits(self, csv_path=\"data.csv\"):\n",
    "        self.assertTrue(os.path.exists(csv_path))\n",
    "\n",
    "class TestTransformer(unittest.TestCase):\n",
    "    def test_transformer_valid_unit_mm(self):\n",
    "        transformer = Transformer(\n",
    "            raw_data=[\n",
    "                {\n",
    "                    \"entry\": \"1\",\n",
    "                    \"cake_diameter\": \"56.78\",\n",
    "                    \"diam_unit\": \"mm\",\n",
    "                    \"flavor\": \"caramel\",\n",
    "                    \"is_cake_vegan\": \"No\",\n",
    "                }\n",
    "            ]\n",
    "        )\n",
    "        res = transformer.transform_data()[0]\n",
    "        self.assertEqual(res.diameter_in_mm, 56.78)\n",
    "        self.assertFalse(res.vegan)\n",
    "        self.assertIsNone(res.is_cake_vegan)\n",
    "        assert res.flavor==\"caramel\", \"The diameters don't match\"\n",
    "\n",
    "if __name__ == '__main__':\n",
    "    unittest.main()"
   ]
  },
  {
   "cell_type": "markdown",
   "metadata": {},
   "source": [
    "## Faster way to read big table with datatable (Have to try)"
   ]
  },
  {
   "cell_type": "code",
   "execution_count": null,
   "metadata": {},
   "outputs": [],
   "source": [
    "%%time\n",
    "\n",
    "import datatable as dt\n",
    "\n",
    "dt_df = dt.fread('../path/to/huge/table.csv')\n",
    "pd_df = dt_df.to_pandas"
   ]
  },
  {
   "cell_type": "markdown",
   "metadata": {},
   "source": [
    "## Panads tricks"
   ]
  },
  {
   "cell_type": "code",
   "execution_count": null,
   "metadata": {},
   "outputs": [],
   "source": [
    "import pandas as pd\n",
    "import seaborn as sns\n",
    "\n",
    "df = pd.read_csv('data.csv')\n",
    "\n",
    "# df with only int columns\n",
    "newdf = df.select_dtypes(include='int64')\n",
    "\n",
    "#  numeric display precision\n",
    "pd.options.display.precision = 3\n",
    "\n",
    "#  format cells\n",
    "def red_black(val):\n",
    "    color = \"red\" if val < 0 else \"black\"\n",
    "    return f\"color: {color}\"\n",
    "df.style.applymap(red_black)\n",
    "\n",
    "cmap = sns.light_palette(\"red\", \n",
    "                as_cmap=True)\n",
    "df.style.background_gradient(cmap)"
   ]
  },
  {
   "cell_type": "markdown",
   "metadata": {},
   "source": [
    "## Pickling"
   ]
  },
  {
   "cell_type": "code",
   "execution_count": null,
   "metadata": {},
   "outputs": [],
   "source": [
    "import pickle\n",
    "with open('file.pkl', 'wb') as f:\n",
    "    pickle.dump(data, f)\n",
    "\n",
    "with open('file.pkl', 'rb') as f:\n",
    "    data = pickle.load(f)"
   ]
  }
 ],
 "metadata": {
  "kernelspec": {
   "display_name": "absa",
   "language": "python",
   "name": "python3"
  },
  "language_info": {
   "codemirror_mode": {
    "name": "ipython",
    "version": 3
   },
   "file_extension": ".py",
   "mimetype": "text/x-python",
   "name": "python",
   "nbconvert_exporter": "python",
   "pygments_lexer": "ipython3",
   "version": "3.8.16"
  },
  "orig_nbformat": 4
 },
 "nbformat": 4,
 "nbformat_minor": 2
}
