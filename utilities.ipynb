{
 "cells": [
  {
   "cell_type": "markdown",
   "metadata": {},
   "source": [
    "## Useful imports"
   ]
  },
  {
   "cell_type": "code",
   "execution_count": null,
   "metadata": {},
   "outputs": [],
   "source": [
    "# general imports\n",
    "import os, sys, time, math, re, copy, random, json\n",
    "from Pathlib import Path\n",
    "\n",
    "# Live-reload of imported modules\n",
    "%load_ext autoreload\n",
    "%autoreload 2\n",
    "\n",
    "import pandas as pd \n",
    "import numpy as np\n",
    "\n",
    "import warnings\n",
    "warnings.filterwarnings(\"ignore\")\n",
    "\n",
    "# Print all rows and columns\n",
    "pd.set_option('display.max_columns', None)\n",
    "pd.set_option('display.max_rows', None)"
   ]
  },
  {
   "cell_type": "code",
   "execution_count": null,
   "metadata": {},
   "outputs": [],
   "source": [
    "# visualization imports\n",
    "import matplotlib\n",
    "import matplotlib.pyplot as plt\n",
    "import seaborn as sns\n",
    "from tqdm.notebook import tqdm\n",
    "\n",
    "%matplotlib inline "
   ]
  },
  {
   "cell_type": "code",
   "execution_count": null,
   "metadata": {},
   "outputs": [],
   "source": [
    "# ML imports\n",
    "from sklearn.metrics import classification_report"
   ]
  },
  {
   "cell_type": "markdown",
   "metadata": {},
   "source": [
    "## Logging"
   ]
  },
  {
   "cell_type": "code",
   "execution_count": null,
   "metadata": {},
   "outputs": [],
   "source": [
    "import logging\n",
    "\n",
    "logging.basicConfig(level=logging.INFO)\n",
    "logger = logging.getLogger(__name__)\n",
    "RANDOM_STATE = 42"
   ]
  },
  {
   "cell_type": "markdown",
   "metadata": {},
   "source": [
    "## Date Operations"
   ]
  },
  {
   "cell_type": "code",
   "execution_count": null,
   "metadata": {},
   "outputs": [],
   "source": [
    "from datetime import datetime\n",
    "\n",
    "# date to desired format\n",
    "date = datetime.today().strftime('%d-%m-%Y')\n",
    "date= datetime.strptime(date,'%Y%m%d').strftime('%Y-%m-%d')\n",
    "\n",
    "# Calender week to date\n",
    "week= int(date.replace(\"CW\",\"\"))\n",
    "year = 2021\n",
    "date = datetime.date(year,1,1)+relativedelta(weeks=+week)  "
   ]
  },
  {
   "cell_type": "markdown",
   "metadata": {},
   "source": [
    "## Printing markdown through code"
   ]
  },
  {
   "cell_type": "code",
   "execution_count": null,
   "metadata": {},
   "outputs": [],
   "source": [
    "# This function makes it easier to print rendered markdown through a code cell\n",
    "\n",
    "from IPython.display import Markdown\n",
    "\n",
    "def mprint(text, *args, **kwargs):\n",
    "    if 'end' in kwargs.keys():\n",
    "        text += kwargs['end']\n",
    "\n",
    "    display(Markdown(text))"
   ]
  },
  {
   "cell_type": "code",
   "execution_count": null,
   "metadata": {},
   "outputs": [],
   "source": [
    "#  Example\n",
    "with open(\"data.json\", \"r\", encoding = \"utf-8\") as f:\n",
    "    data_dict = json.loads(f)\n",
    "\n",
    "for k,v in data_dict.items():\n",
    "    mprint(f\"We have **{len(v)}** rows of data in `{k}`.\")"
   ]
  },
  {
   "cell_type": "markdown",
   "metadata": {},
   "source": [
    "## Sending an Email"
   ]
  },
  {
   "cell_type": "code",
   "execution_count": null,
   "metadata": {},
   "outputs": [],
   "source": [
    "import pandas as pd\n",
    "import smtplib, ssl\n",
    "from email.mime.multipart import MIMEMultipart\n",
    "from email.mime.text import MIMEText\n",
    "from email.mime.application import MIMEApplication\n",
    "\n",
    "# Set up the email addresses and password. Please replace below with your email address and password\n",
    "email_from = 'bwencs@gmail.com'\n",
    "password = 'dcefcerf'\n",
    "email_to = ['xyz@yahoo.com', 'abc@gmail.com']\n",
    "\n",
    "# Generate today's date to be included in the email Subject\n",
    "date_str = pd.Timestamp.today().strftime('%Y-%m-%d')\n",
    "\n",
    "# Define the HTML document\n",
    "html = '''\n",
    "    <html>\n",
    "        <body>\n",
    "            <h1>Daily BSE Bulk Deals report</h1>\n",
    "        </body>\n",
    "    </html>\n",
    "    '''\n",
    "# Create a MIMEMultipart class, and set up the From, To, Subject fields\n",
    "email_message = MIMEMultipart()\n",
    "# email_message['From'] = email_from\n",
    "# email_message['To'] = email_to\n",
    "email_message['Subject'] = f'Report email - {date_str}'\n",
    "email_message.attach(MIMEText(html, \"html\"))\n",
    "\n",
    "# Open the attachment file for reading in binary mode, and make it a MIMEApplication class\n",
    "with open(filename, \"rb\") as f:\n",
    "    file_attachment = MIMEApplication(f.read())\n",
    "# Add header/name to the attachments    \n",
    "file_attachment.add_header(\n",
    "    \"Content-Disposition\",\n",
    "    f\"attachment; filename= {filename}\",\n",
    ")\n",
    "# Attach the file to the message\n",
    "email_message.attach(file_attachment)\n",
    "\n",
    "email_string = email_message.as_string()\n",
    "context = ssl.create_default_context()\n",
    "with smtplib.SMTP_SSL(\"smtp.gmail.com\", 465, context=context) as server:\n",
    "    server.ehlo()\n",
    "    # server.starttls()\n",
    "    server.login(email_from, password)\n",
    "    server.sendmail(email_from, email_to, email_string)"
   ]
  },
  {
   "cell_type": "markdown",
   "metadata": {},
   "source": [
    "## Unit Testing"
   ]
  },
  {
   "cell_type": "code",
   "execution_count": null,
   "metadata": {},
   "outputs": [],
   "source": [
    "import os\n",
    "import sys\n",
    "import unittest\n",
    "\n",
    "class Transformer:\n",
    "    pass\n",
    "\n",
    "class TestExtractor(unittest.TestCase):\n",
    "    def test_if_csv_exits(self, csv_path=\"data.csv\"):\n",
    "        self.assertTrue(os.path.exists(csv_path))\n",
    "\n",
    "class TestTransformer(unittest.TestCase):\n",
    "    def test_transformer_valid_unit_mm(self):\n",
    "        transformer = Transformer(\n",
    "            raw_data=[\n",
    "                {\n",
    "                    \"entry\": \"1\",\n",
    "                    \"cake_diameter\": \"56.78\",\n",
    "                    \"diam_unit\": \"mm\",\n",
    "                    \"flavor\": \"caramel\",\n",
    "                    \"is_cake_vegan\": \"No\",\n",
    "                }\n",
    "            ]\n",
    "        )\n",
    "        res = transformer.transform_data()[0]\n",
    "        self.assertEqual(res.diameter_in_mm, 56.78)\n",
    "        self.assertFalse(res.vegan)\n",
    "        self.assertIsNone(res.is_cake_vegan)\n",
    "\n",
    "if __name__ == '__main__':\n",
    "    unittest.main()"
   ]
  }
 ],
 "metadata": {
  "language_info": {
   "name": "python"
  },
  "orig_nbformat": 4
 },
 "nbformat": 4,
 "nbformat_minor": 2
}
